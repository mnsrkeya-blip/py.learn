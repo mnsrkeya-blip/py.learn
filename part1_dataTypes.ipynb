{
 "cells": [
  {
   "cell_type": "markdown",
   "id": "c1283076",
   "metadata": {},
   "source": [
    "# in this sheet we will cover data types"
   ]
  },
  {
   "cell_type": "markdown",
   "id": "97184e0c",
   "metadata": {},
   "source": [
    "<h1> this is heading 1 </h1>\n",
    "<h3> this is heading 3 </h3>\n"
   ]
  },
  {
   "cell_type": "markdown",
   "id": "7457d4a1",
   "metadata": {},
   "source": [
    "$e=mc^2$"
   ]
  },
  {
   "cell_type": "markdown",
   "id": "e465d590",
   "metadata": {},
   "source": []
  },
  {
   "cell_type": "code",
   "execution_count": 1,
   "id": "fb0fd321",
   "metadata": {},
   "outputs": [
    {
     "name": "stdout",
     "output_type": "stream",
     "text": [
      "hello world\n"
     ]
    }
   ],
   "source": [
    "print(\"hello world\")"
   ]
  },
  {
   "cell_type": "markdown",
   "id": "c63ee5a3",
   "metadata": {},
   "source": []
  }
 ],
 "metadata": {
  "kernelspec": {
   "display_name": "base",
   "language": "python",
   "name": "python3"
  },
  "language_info": {
   "codemirror_mode": {
    "name": "ipython",
    "version": 3
   },
   "file_extension": ".py",
   "mimetype": "text/x-python",
   "name": "python",
   "nbconvert_exporter": "python",
   "pygments_lexer": "ipython3",
   "version": "3.12.7"
  }
 },
 "nbformat": 4,
 "nbformat_minor": 5
}
