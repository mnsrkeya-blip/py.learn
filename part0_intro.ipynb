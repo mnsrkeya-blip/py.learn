{
 "cells": [
  {
   "cell_type": "code",
   "execution_count": null,
   "id": "7883e0e8",
   "metadata": {},
   "outputs": [],
   "source": [
    "x=0 \n",
    "y = 20"
   ]
  }
 ],
 "metadata": {
  "kernelspec": {
   "display_name": "base",
   "language": "python",
   "name": "python3"
  },
  "language_info": {
   "codemirror_mode": {
    "name": "ipython",
    "version": 3
   },
   "file_extension": ".py",
   "mimetype": "text/x-python",
   "name": "python",
   "nbconvert_exporter": "python",
   "pygments_lexer": "ipython3",
   "version": "3.12.7"
  }
 },
 "nbformat": 4,
 "nbformat_minor": 5
}
